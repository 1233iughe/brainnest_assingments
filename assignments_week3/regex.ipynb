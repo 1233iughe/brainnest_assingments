{
 "cells": [
  {
   "attachments": {},
   "cell_type": "markdown",
   "metadata": {},
   "source": [
    "1.  Write a regular expression that matches a date in the format dd/mm/yyyy. For example, the string \"01/01/2021\" should match."
   ]
  },
  {
   "cell_type": "code",
   "execution_count": 10,
   "metadata": {},
   "outputs": [
    {
     "name": "stdout",
     "output_type": "stream",
     "text": [
      "['03/02/2023', '03/02/2023!', 'dasd01/02/2023', 'dasd 01/02/2023']\n"
     ]
    }
   ],
   "source": [
    "import re\n",
    "\n",
    "pattern = re.compile(r'.*\\d{2}/{1}\\d{2}/{1}\\d{4}.*')\n",
    "\n",
    "tests = ['03/02/2023', '01/dsadsad/99', '03/02/2023!','dasd01/02/2023', 'dasd 01/02/2023']\n",
    "\n",
    "demo = [test for test in tests if re.findall(pattern, test)]\n",
    "\n",
    "print(demo)"
   ]
  },
  {
   "attachments": {},
   "cell_type": "markdown",
   "metadata": {},
   "source": [
    "2. Write a regular expression that matches a phone number in the format xxx-xxx-xxxx, where x is a digit. For example, the string \"123-456-7890\" should match."
   ]
  },
  {
   "cell_type": "code",
   "execution_count": 13,
   "metadata": {},
   "outputs": [
    {
     "name": "stdout",
     "output_type": "stream",
     "text": [
      "['777-999-7894', 'dadasad685-987-2382dfsdf', 'dadasad 685-987-2382 dfsdf']\n"
     ]
    }
   ],
   "source": [
    "import re\n",
    "\n",
    "pattern = re.compile(r'.*\\d{3}-\\d{3}-\\d{4}.*')\n",
    "\n",
    "tests = ['03/02/2023', '777-999-7894', '777-99-8944654', \n",
    "         'dadasad685-987-232dfsdf', 'dadasad685-987-2382dfsdf', \n",
    "         'dadasad 685-987-2382 dfsdf']\n",
    "\n",
    "demo = [test for test in tests if re.findall(pattern, test)]\n",
    "\n",
    "print(demo)"
   ]
  },
  {
   "attachments": {},
   "cell_type": "markdown",
   "metadata": {},
   "source": [
    "3. Write a regular expression that matches a valid email address. For example, the string \"example@example.com\" should match."
   ]
  },
  {
   "cell_type": "code",
   "execution_count": 25,
   "metadata": {},
   "outputs": [
    {
     "name": "stdout",
     "output_type": "stream",
     "text": [
      "['johndoe@example.com', 'jane.doe@gmail.com', 'jane@doe.com', 'abc.def@mail-archive.com', 'fully-qualified-domain@example.com', 'asasas@dasda.dasd.cc', 'dsasd@dsasd-dad.com']\n"
     ]
    }
   ],
   "source": [
    "import re\n",
    "\n",
    "pattern = re.compile(r'.*\\w+((\\.|-)\\w)?@\\w+((\\.|-){1}\\w+)?\\.\\w{2,3}.*')\n",
    "\n",
    "tests = [\"johndoe@example.com\",\n",
    "          \"jane.doe@gmail.com\",\n",
    "          \"invalid-email\",\n",
    "          \"foo@bar\",\n",
    "          \"example@.com\",\n",
    "          \"@example.com\",\n",
    "          \"john@doe\",\n",
    "          \"jane@doe.com\",\n",
    "          'abc.def@mail-archive.com',\n",
    "          'fully-qualified-domain@example.com',\n",
    "          'asasas@dasda.dasd.cc',\n",
    "          'dsasd@dsasd-dad.com']\n",
    "\n",
    "demo = [test for test in tests if re.findall(pattern, test)]\n",
    "\n",
    "print(demo)"
   ]
  },
  {
   "attachments": {},
   "cell_type": "markdown",
   "metadata": {},
   "source": [
    "4. Write a regular expression that matches a string that starts with a word, followed by one or more whitespace characters, followed by another word. For example, the string \"hello world\" should match."
   ]
  },
  {
   "cell_type": "code",
   "execution_count": 26,
   "metadata": {},
   "outputs": [
    {
     "name": "stdout",
     "output_type": "stream",
     "text": [
      "['Hello world', 'dasdsa dasdad dsada', 'dada dadsad dadsa saddas', 'dasd dasd dasdas', 'dasd ssddas dass']\n"
     ]
    }
   ],
   "source": [
    "import re\n",
    "\n",
    "pattern = re.compile(r'^\\w+\\s+\\w+')\n",
    "\n",
    "tests = ['Hello world', 'dasdsa dasdad dsada', \n",
    "         'dada dadsad dadsa saddas','dasd dasd dasdas', 'dasd ssddas dass']\n",
    "\n",
    "demo = [test for test in tests if re.findall(pattern, test)]\n",
    "\n",
    "print(demo)"
   ]
  },
  {
   "attachments": {},
   "cell_type": "markdown",
   "metadata": {},
   "source": [
    "5. Write a regular expression that matches a string that contains a number with exactly two decimal places. For example, the string \"1.23\" should match, but the string \"1.234\" should not match."
   ]
  },
  {
   "cell_type": "code",
   "execution_count": 32,
   "metadata": {},
   "outputs": [
    {
     "name": "stdout",
     "output_type": "stream",
     "text": [
      "['1.222', 'dada dadsad 1.22', 'dasdasd1.23ddasd']\n"
     ]
    }
   ],
   "source": [
    "import re\n",
    "\n",
    "pattern = re.compile(r'\\d+\\.\\d{2}\\D*')\n",
    "\n",
    "tests = ['Hello world', '1.222', \n",
    "         'dada dadsad 1.22','1.1 dasd dasdas', 'dasdasd1.23ddasd']\n",
    "\n",
    "demo = [test for test in tests if re.findall(pattern, test)]\n",
    "\n",
    "print(demo)"
   ]
  }
 ],
 "metadata": {
  "kernelspec": {
   "display_name": "Python 3",
   "language": "python",
   "name": "python3"
  },
  "language_info": {
   "codemirror_mode": {
    "name": "ipython",
    "version": 3
   },
   "file_extension": ".py",
   "mimetype": "text/x-python",
   "name": "python",
   "nbconvert_exporter": "python",
   "pygments_lexer": "ipython3",
   "version": "3.7.3"
  },
  "orig_nbformat": 4,
  "vscode": {
   "interpreter": {
    "hash": "f7a5be651532581cb44625d52e18aa1d390cab54bc6b51099d8c30bea9b68219"
   }
  }
 },
 "nbformat": 4,
 "nbformat_minor": 2
}
