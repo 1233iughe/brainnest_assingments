{
 "cells": [
  {
   "attachments": {},
   "cell_type": "markdown",
   "metadata": {},
   "source": [
    "1. Given two sets A and B, write a function to return the symmetric difference between them as a new set. The symmetric difference is the set of elements that are in either A or B, but not in both."
   ]
  },
  {
   "cell_type": "code",
   "execution_count": 4,
   "metadata": {},
   "outputs": [
    {
     "data": {
      "text/plain": [
       "{1, 4}"
      ]
     },
     "execution_count": 4,
     "metadata": {},
     "output_type": "execute_result"
    }
   ],
   "source": [
    "def difference(a,b):\n",
    "    #The same result is obtain with -> return (a - b) | (b - a)\n",
    "    return a ^ b\n",
    "\n",
    "a = {1,2,3}\n",
    "b = {2,3,4}\n",
    "\n",
    "difference(a,b)"
   ]
  },
  {
   "attachments": {},
   "cell_type": "markdown",
   "metadata": {},
   "source": [
    "2. Given a list of numbers, write a function to return a set of all prime numbers from the list."
   ]
  },
  {
   "cell_type": "code",
   "execution_count": 6,
   "metadata": {},
   "outputs": [
    {
     "name": "stdout",
     "output_type": "stream",
     "text": [
      "{4243, 23}\n"
     ]
    }
   ],
   "source": [
    "#The following 2 functions will help to create a list with all the possible primes in a range\n",
    "def divby(num,factors):\n",
    "    for factor in factors:\n",
    "        if num % factor == 0:\n",
    "            return False\n",
    "    return True\n",
    "\n",
    "def prime_generator(limit):\n",
    "    x = [2, 3, 5, 7, 11, 13]\n",
    "    i = 14\n",
    "    total = 6\n",
    "    while total <= limit:\n",
    "        if divby(i,x):\n",
    "            x.append(i)\n",
    "            total += 1\n",
    "        i += 1\n",
    "    return x\n",
    "\n",
    "def prime_set(lst):\n",
    "    #Eliminating even values\n",
    "    num_set = {x for x in lst if x % 2 != 0 or x == 2}\n",
    "\n",
    "    #Creating a set with all possible primes below the maximum remaining value\n",
    "    range_primes = set(prime_generator(max(num_set)))\n",
    "    \n",
    "    return num_set & range_primes\n",
    "\n",
    "x = [23,667,312,4243]\n",
    "\n",
    "print(prime_set(x))\n",
    "    \n",
    "\n"
   ]
  },
  {
   "attachments": {},
   "cell_type": "markdown",
   "metadata": {},
   "source": [
    "3. Given a list of words, write a function to return a set of all anagrams in the list."
   ]
  },
  {
   "cell_type": "code",
   "execution_count": 30,
   "metadata": {},
   "outputs": [
    {
     "name": "stdout",
     "output_type": "stream",
     "text": [
      "{'stain', 'tains'}\n"
     ]
    }
   ],
   "source": [
    "def anagrams(lst):\n",
    "    anagrams = []\n",
    "    for i in range(len(lst)-1):\n",
    "         for j in range(i+1,len(lst)):\n",
    "            if lst[i] not in anagrams:\n",
    "                str_1 = list(lst[i])\n",
    "                str_1.sort()\n",
    "                str_2 = list(lst[j])\n",
    "                str_2.sort()\n",
    "                if str_1 == str_2:\n",
    "                    anagrams.append(lst[i])\n",
    "                    anagrams.append(lst[j])\n",
    "    return set(anagrams)\n",
    "  \n",
    " \n",
    "   \n",
    "\n",
    "x = ['dasdas', 'dasdasd', 'tains', 'stain']\n",
    "print(anagrams(x))"
   ]
  },
  {
   "attachments": {},
   "cell_type": "markdown",
   "metadata": {},
   "source": [
    "4. Given a list of sets, write a function to return the Cartesian product of all sets in the list."
   ]
  },
  {
   "cell_type": "code",
   "execution_count": 31,
   "metadata": {},
   "outputs": [
    {
     "name": "stdout",
     "output_type": "stream",
     "text": [
      "{(1, 2), (3, 2), (3, 1), (2, 1), (2, 2), (1, 1)}\n"
     ]
    }
   ],
   "source": [
    "def cartesian(a,b):\n",
    "    return {(i,j) for i in a for j in b}\n",
    "\n",
    "a = {1,2,3}\n",
    "b = {1,2}\n",
    "\n",
    "print(cartesian(a,b))"
   ]
  }
 ],
 "metadata": {
  "kernelspec": {
   "display_name": "Python 3",
   "language": "python",
   "name": "python3"
  },
  "language_info": {
   "codemirror_mode": {
    "name": "ipython",
    "version": 3
   },
   "file_extension": ".py",
   "mimetype": "text/x-python",
   "name": "python",
   "nbconvert_exporter": "python",
   "pygments_lexer": "ipython3",
   "version": "3.7.3"
  },
  "orig_nbformat": 4,
  "vscode": {
   "interpreter": {
    "hash": "f7a5be651532581cb44625d52e18aa1d390cab54bc6b51099d8c30bea9b68219"
   }
  }
 },
 "nbformat": 4,
 "nbformat_minor": 2
}
