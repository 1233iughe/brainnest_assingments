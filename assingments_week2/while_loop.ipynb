{
 "cells": [
  {
   "cell_type": "markdown",
   "metadata": {},
   "source": [
    "1. Create a while loop that repeatedly takes user input and adds the input to a list until the user enters \"done\"."
   ]
  },
  {
   "cell_type": "code",
   "execution_count": 7,
   "metadata": {
    "vscode": {
     "languageId": "plaintext"
    }
   },
   "outputs": [
    {
     "name": "stdout",
     "output_type": "stream",
     "text": [
      "Enter your input: asdasd\n",
      "Enter your input: dsadas\n",
      "Enter your input: das\n",
      "Enter your input: done\n",
      "['asdasd', 'dsadas', 'das', 'done']\n"
     ]
    }
   ],
   "source": [
    "def lister():\n",
    "    lst = []\n",
    "    switch = True\n",
    "    while switch:\n",
    "        user_input = input(\"Enter your input: \")\n",
    "        if user_input == \"done\":\n",
    "            switch = False\n",
    "        else:\n",
    "            lst.append(user_input)\n",
    "    print(lst)\n",
    "\n",
    "lister()"
   ]
  },
  {
   "cell_type": "markdown",
   "metadata": {},
   "source": [
    "2. Create a while loop that generates random numbers and adds them to a list until the sum of all numbers in the list is greater than 100."
   ]
  },
  {
   "cell_type": "code",
   "execution_count": 5,
   "metadata": {
    "vscode": {
     "languageId": "plaintext"
    }
   },
   "outputs": [
    {
     "name": "stdout",
     "output_type": "stream",
     "text": [
      "[91, 78] 169\n"
     ]
    }
   ],
   "source": [
    "import random\n",
    "def uptohundred():\n",
    "    total = 0\n",
    "    lst = []\n",
    "    while total < 100:\n",
    "        lst.append(random.randint(0, 100))\n",
    "        total = sum(lst)\n",
    "    print(lst, total)\n",
    "\n",
    "uptohundred()"
   ]
  },
  {
   "cell_type": "markdown",
   "metadata": {},
   "source": [
    "3. Create a while loop that repeatedly takes user input and appends it to a list, but only if the input is a unique string."
   ]
  },
  {
   "cell_type": "code",
   "execution_count": 10,
   "metadata": {
    "vscode": {
     "languageId": "plaintext"
    }
   },
   "outputs": [
    {
     "name": "stdout",
     "output_type": "stream",
     "text": [
      "Enter your input: dsda\n",
      "Enter your input: dadas\n",
      "Enter your input: dasdasfsragsdfg\n",
      "Enter your input: sdfg\n",
      "Enter your input: sdf\n",
      "Enter your input: sd\n",
      "Enter your input: \n",
      "Enter your input: sdfg\n",
      "That str is already in list\n",
      "Enter your input: dsf\n",
      "Enter your input: done\n",
      "['dsda', 'dadas', 'dasdasfsragsdfg', 'sdfg', 'sdf', 'sd', '', 'dsf']\n"
     ]
    }
   ],
   "source": [
    "def lister_imp():\n",
    "    lst = []\n",
    "    user_input = \"y\"\n",
    "    while  user_input != \"done\":\n",
    "        user_input = input(\"Enter your input: \")\n",
    "        if user_input != \"done\":\n",
    "            lst.append(user_input) if user_input not in lst else print(\"That str is already in list\")\n",
    "    print(lst)\n",
    "    \n",
    "lister_imp()"
   ]
  },
  {
   "cell_type": "markdown",
   "metadata": {},
   "source": [
    "4. Create a while loop that repeatedly takes user input and appends it to a list, but only if the input is a number greater than 10."
   ]
  },
  {
   "cell_type": "code",
   "execution_count": 14,
   "metadata": {
    "vscode": {
     "languageId": "plaintext"
    }
   },
   "outputs": [
    {
     "name": "stdout",
     "output_type": "stream",
     "text": [
      "Enter your input: ddas.\n",
      "Entry should be a number\n",
      "Enter your input: dasdads\n",
      "Entry should be a number\n",
      "Enter your input: ads\n",
      "Entry should be a number\n",
      "Enter your input: adas\n",
      "Entry should be a number\n",
      "Enter your input: d\n",
      "Entry should be a number\n",
      "Enter your input: sd\n",
      "Entry should be a number\n",
      "Enter your input: as\n",
      "Entry should be a number\n",
      "Enter your input: 11\n",
      "Enter your input: 486465\n",
      "Enter your input: done\n",
      "[11, 486465]\n"
     ]
    }
   ],
   "source": [
    "def lister_10():\n",
    "    lst = []\n",
    "    user_input = \"y\"\n",
    "    while  user_input != \"done\":\n",
    "        user_input = input(\"Enter your input: \")\n",
    "        if user_input != \"done\":\n",
    "            try:\n",
    "                user_input = int(user_input)\n",
    "                lst.append(user_input) if user_input > 10 else print(\"Number should be greater than 10\")\n",
    "            except ValueError:\n",
    "                print(\"Entry should be a number\")\n",
    "    print(lst)\n",
    "    \n",
    "lister_10()"
   ]
  },
  {
   "cell_type": "code",
   "execution_count": null,
   "metadata": {},
   "outputs": [],
   "source": []
  },
  {
   "cell_type": "markdown",
   "metadata": {},
   "source": [
    "5. Create a while loop that repeatedly takes user input and keeps track of the highest number entered until the user enters \"done\"."
   ]
  },
  {
   "cell_type": "code",
   "execution_count": 20,
   "metadata": {
    "vscode": {
     "languageId": "plaintext"
    }
   },
   "outputs": [
    {
     "name": "stdout",
     "output_type": "stream",
     "text": [
      "Enter your input: 10\n",
      "Enter your input: 12\n",
      "Enter your input: 4854\n",
      "Enter your input: done\n",
      "[10.0, 12.0, 4854.0] Max: 4854.0\n"
     ]
    }
   ],
   "source": [
    "def lister_max():\n",
    "    lst = []\n",
    "    user_input = \"y\"\n",
    "    while  user_input != \"done\":\n",
    "        user_input = input(\"Enter your input: \")\n",
    "        if user_input != \"done\":\n",
    "            try:\n",
    "                user_input = float(user_input)\n",
    "                lst.append(user_input)\n",
    "            except ValueError:\n",
    "                print(\"Entry should be a number\")\n",
    "        else:\n",
    "            print(lst, \"Max: \" + str(max(lst)))\n",
    "    \n",
    "lister_max()"
   ]
  },
  {
   "cell_type": "code",
   "execution_count": null,
   "metadata": {},
   "outputs": [],
   "source": []
  }
 ],
 "metadata": {
  "kernelspec": {
   "display_name": "Python 3 (ipykernel)",
   "language": "python",
   "name": "python3"
  },
  "language_info": {
   "codemirror_mode": {
    "name": "ipython",
    "version": 3
   },
   "file_extension": ".py",
   "mimetype": "text/x-python",
   "name": "python",
   "nbconvert_exporter": "python",
   "pygments_lexer": "ipython3",
   "version": "3.7.3"
  }
 },
 "nbformat": 4,
 "nbformat_minor": 2
}
