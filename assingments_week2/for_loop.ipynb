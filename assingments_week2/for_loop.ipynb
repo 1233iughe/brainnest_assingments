{
 "cells": [
  {
   "cell_type": "markdown",
   "metadata": {},
   "source": [
    "1. Create a for loop that iterates through a list of strings and prints each string in uppercase."
   ]
  },
  {
   "cell_type": "code",
   "execution_count": 2,
   "metadata": {},
   "outputs": [
    {
     "name": "stdout",
     "output_type": "stream",
     "text": [
      "APPLE\n",
      "BANANA\n",
      "CHERRY\n",
      "DOG\n",
      "CAT\n",
      "ELEPHANT\n",
      "RED\n",
      "GREEN\n",
      "BLUE\n",
      "Enter a list of strings\n",
      "AAAAA\n"
     ]
    }
   ],
   "source": [
    "def uppercaser(str_list):\n",
    "    if str_list:\n",
    "        for stri in str_list:\n",
    "            try:\n",
    "                print(stri.upper())\n",
    "            except:\n",
    "                pass\n",
    "    else:\n",
    "        print(\"Enter a list of strings\")\n",
    "        \n",
    "tests = [['apple', 'banana', 'cherry'],\n",
    "           ['dog', 'cat', 'elephant'],\n",
    "           ['red', 'green', 'blue'],\n",
    "        [],\n",
    "        [True, 1, \"AAAAa\"]]\n",
    "\n",
    "for test in tests:\n",
    "    uppercaser(test)"
   ]
  },
  {
   "cell_type": "markdown",
   "metadata": {},
   "source": [
    "2. Create a for loop that iterates through a list of numbers and prints the square of each number."
   ]
  },
  {
   "cell_type": "code",
   "execution_count": 9,
   "metadata": {},
   "outputs": [
    {
     "name": "stdout",
     "output_type": "stream",
     "text": [
      "1\n",
      "4\n",
      "9\n",
      "Enter a list of numbers\n"
     ]
    }
   ],
   "source": [
    "import random \n",
    "\n",
    "def squarer(num_lst):\n",
    "    if num_lst:\n",
    "        for num in num_lst:\n",
    "            if type(num) == int:\n",
    "                print(num*num)\n",
    "    else:\n",
    "        print(\"Enter a list of numbers\")\n",
    "\n",
    "tests = [[1,2,3],\n",
    "        [\"a\",True, \"\"],\n",
    "        []]\n",
    "\n",
    "for test in tests:\n",
    "    squarer(test)"
   ]
  },
  {
   "cell_type": "markdown",
   "metadata": {},
   "source": [
    "3. Create a for loop that iterates through a list of dictionaries and prints the value of a specified key for each dictionary."
   ]
  },
  {
   "cell_type": "code",
   "execution_count": 12,
   "metadata": {},
   "outputs": [
    {
     "name": "stdout",
     "output_type": "stream",
     "text": [
      "2\n",
      "True\n"
     ]
    }
   ],
   "source": [
    "def specified(dic_list,key):\n",
    "    if dic_list and key:\n",
    "        for dic in dic_list:\n",
    "            try:\n",
    "                print(dic[key])\n",
    "            except:\n",
    "                pass\n",
    "    else:\n",
    "        print(\"Provide both a list of dictionaries and a key\")\n",
    "\n",
    "tests = [[{\"potato\":2, \"carrot\":10},\n",
    "          {\"potato\":True, \"cARROT\":10},\n",
    "        {\"carrot\":10}], \n",
    "          \"potato\",\n",
    "        ]\n",
    "            \n",
    "specified(tests[0], tests[1])\n",
    "    "
   ]
  },
  {
   "cell_type": "markdown",
   "metadata": {},
   "source": [
    "4. Create a for loop that iterates through a list of numbers and prints the largest number in the list."
   ]
  },
  {
   "cell_type": "code",
   "execution_count": 18,
   "metadata": {},
   "outputs": [
    {
     "name": "stdout",
     "output_type": "stream",
     "text": [
      "3\n",
      "6\n",
      "9\n",
      "Enter a list of numbers\n",
      "1\n",
      "List should contain numbers\n"
     ]
    }
   ],
   "source": [
    "def largest(num_lst):\n",
    "    if num_lst:\n",
    "        only_num = [num for num in num_lst if type(num) in [int, float]]\n",
    "        try:\n",
    "            print(max(only_num))\n",
    "        except ValueError:\n",
    "            print(\"List should contain numbers\")\n",
    "            \n",
    "    else:\n",
    "        print(\"Enter a list of numbers\")\n",
    "\n",
    "tests = [[1, 2, 3],\n",
    "           [4, 5, 6],\n",
    "           [7, 8, 9],\n",
    "        [],\n",
    "        [1, True,\"aaa\"],\n",
    "        [True,\"aaa\"]]\n",
    "\n",
    "for test in tests:\n",
    "    largest(test)"
   ]
  },
  {
   "cell_type": "markdown",
   "metadata": {},
   "source": [
    "5. Create a for loop that iterates through a list of lists and prints the sum of the elements in each sub-list."
   ]
  },
  {
   "cell_type": "code",
   "execution_count": 21,
   "metadata": {},
   "outputs": [
    {
     "name": "stdout",
     "output_type": "stream",
     "text": [
      "6\n",
      "15\n",
      "24\n",
      "0\n",
      "List should contain only numbers\n",
      "List should contain only numbers\n"
     ]
    }
   ],
   "source": [
    "def lst_adder(num_lst):\n",
    "    if num_lst:\n",
    "        for num in num_lst:\n",
    "            try:\n",
    "                print(sum(num))\n",
    "            except:\n",
    "                print(\"List should contain only numbers\")\n",
    "    else:\n",
    "        print(\"Enter a list of lists of numbers\")\n",
    "\n",
    "tests = [[[1, 2, 3],\n",
    "           [4, 5, 6]],\n",
    "           [[7, 8, 9],\n",
    "        []],\n",
    "        [[1, True,\"aaa\"],\n",
    "        [True,\"aaa\"]]]\n",
    "\n",
    "for test in tests:\n",
    "    lst_adder(test)"
   ]
  },
  {
   "cell_type": "code",
   "execution_count": null,
   "metadata": {},
   "outputs": [],
   "source": []
  }
 ],
 "metadata": {
  "kernelspec": {
   "display_name": "Python 3 (ipykernel)",
   "language": "python",
   "name": "python3"
  },
  "language_info": {
   "codemirror_mode": {
    "name": "ipython",
    "version": 3
   },
   "file_extension": ".py",
   "mimetype": "text/x-python",
   "name": "python",
   "nbconvert_exporter": "python",
   "pygments_lexer": "ipython3",
   "version": "3.7.3"
  }
 },
 "nbformat": 4,
 "nbformat_minor": 2
}
