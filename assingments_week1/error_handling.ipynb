{
 "cells": [
  {
   "cell_type": "markdown",
   "metadata": {},
   "source": [
    "1. Write a function that takes a list of integers as an argument, and returns the sum of the integers. Use a try-except block to catch any ValueError exceptions that may be raised when attempting to convert a string to an integer."
   ]
  },
  {
   "cell_type": "code",
   "execution_count": 8,
   "metadata": {},
   "outputs": [
    {
     "name": "stdout",
     "output_type": "stream",
     "text": [
      "6\n",
      "3538\n",
      "6\n",
      "0\n",
      "10\n",
      "6\n"
     ]
    }
   ],
   "source": [
    "#Adder function that returns the sum of integers in a list, even if non-integers are in the list.\n",
    "def adder(num_list):\n",
    "    total = 0\n",
    "    for num in num_list:\n",
    "        try:\n",
    "            total += int(num)\n",
    "        \n",
    "        except ValueError:\n",
    "            pass\n",
    "\n",
    "    return total\n",
    "    \n",
    "tests = [[1,2,3],[1223,3,2312],[1,2,3,\"sadsa\"],\"assada\", [1,2,3,\"sadsa\", 4], [\"1\",\"2\",\"3\"]]\n",
    "\n",
    "for test in tests:\n",
    "    print(adder(test))"
   ]
  },
  {
   "cell_type": "markdown",
   "metadata": {},
   "source": [
    "2. Write a function that takes a filename as an argument, and attempts to open the file. Use a try-except block to catch any FileNotFoundError exceptions that may be raised when attempting to open the file. If the file is successfully opened, the function should return the contents of the file."
   ]
  },
  {
   "cell_type": "code",
   "execution_count": 17,
   "metadata": {},
   "outputs": [
    {
     "name": "stdout",
     "output_type": "stream",
     "text": [
      "Hello\n",
      "Its\n",
      "Me\n",
      "Dio\n",
      "\n",
      "Error: File not found imaginary_file.txt\n"
     ]
    }
   ],
   "source": [
    "#This function tries to open a given file and return its contents.\n",
    "\n",
    "def opener(file_name):\n",
    "    try:\n",
    "        file = open(file_name)\n",
    "        content = file.read()\n",
    "        file.close()\n",
    "        return content\n",
    "    except FileNotFoundError:\n",
    "        return \"Error: File not found \" + file_name \n",
    "\n",
    "\n",
    "tests = [\"open.txt\", \"imaginary_file.txt\"]\n",
    "\n",
    "for test in tests:\n",
    "    print(opener(test))"
   ]
  },
  {
   "cell_type": "markdown",
   "metadata": {},
   "source": [
    "3. Write a function that takes a list of strings as an argument, and returns a new list containing only the strings that can be successfully converted to a float. Use a try-except block to catch any ValueError exceptions that may be raised when attempting to convert a string to a float."
   ]
  },
  {
   "cell_type": "code",
   "execution_count": 13,
   "metadata": {},
   "outputs": [
    {
     "name": "stdout",
     "output_type": "stream",
     "text": [
      "[0.1, 2.0, 3.14126]\n",
      "[1.0, 2.0, 3.0]\n",
      "[1223.0, 3.0, 2312.0]\n",
      "[1.0, 2.0, 3.0]\n",
      "[]\n",
      "[1.0, 2.0, 3.0, 4.0]\n",
      "[1.0, 2.0, 3.0]\n"
     ]
    }
   ],
   "source": [
    "#Adder function that returns a list with float-convertable items, even if non-numeric satrings are provided.\n",
    "def float_converter(stri_list):\n",
    "    converted = []\n",
    "    \n",
    "    for stri in stri_list:\n",
    "        try:\n",
    "            converted.append(float(stri))\n",
    "        except ValueError:\n",
    "            pass\n",
    "    \n",
    "    return converted\n",
    "\n",
    "tests = [[\"0.1\", 2, \"3.14126\"],[1,2,3],[1223,3,2312],[1,2,3,\"sadsa\"],\"assada\", [1,2,3,\"sadsa\", 4], [\"1\",\"2\",\"3\"]]\n",
    "\n",
    "for test in tests:\n",
    "    print(float_converter(test))"
   ]
  },
  {
   "cell_type": "markdown",
   "metadata": {},
   "source": [
    "4. Write a function that takes a list of dictionaries as an argument, and returns the value of a specified key from each dictionary. Use a try-except block to catch any KeyError exceptions that may be raised when attempting to access a key that does not exist in a dictionary."
   ]
  },
  {
   "cell_type": "code",
   "execution_count": 21,
   "metadata": {},
   "outputs": [
    {
     "name": "stdout",
     "output_type": "stream",
     "text": [
      "['value1a', 'value1b']\n",
      "['value1d', 'value1f']\n"
     ]
    }
   ],
   "source": [
    "#This function returns a list of values associated with a given key from a list of dictionaries\n",
    "def dic_acceser(dic_list, key):\n",
    "    key_values = []\n",
    "    for dic in dic_list:\n",
    "        try:\n",
    "            key_values.append(dic[key])\n",
    "        except KeyError:\n",
    "            pass\n",
    "\n",
    "    return key_values\n",
    "\n",
    "tests = [[{'key1': 'value1a', 'key2': 'value2a', 'key3': 'value3a'},\n",
    "              {'key1': 'value1b', 'key2': 'value2b', 'key3': 'value3b'},\n",
    "              {'key2': 'value2c', 'key3': 'value3c'}],\n",
    "        [{'key1': 'value1d', 'key2': 'value2d', 'key3': 'value3d'},\n",
    "              { 'key2': 'value2e', 'key3': 'value3e'},\n",
    "              {'key1': 'value1f', 'key2': 'value2f', 'key3': 'value3f'}]]\n",
    "\n",
    "for test in tests:\n",
    "    print(dic_acceser(test, \"key1\"))\n",
    "\n",
    "    \n",
    "    "
   ]
  },
  {
   "cell_type": "markdown",
   "metadata": {},
   "source": [
    "5. Write a function that takes a list of integers as an argument, and returns the largest integer in the list. Use a try-except block to catch any ValueError exceptions that may be raised when attempting to compare elements that are not integers."
   ]
  },
  {
   "cell_type": "code",
   "execution_count": 1,
   "metadata": {},
   "outputs": [
    {
     "name": "stdout",
     "output_type": "stream",
     "text": [
      "3\n",
      "2312\n",
      "3\n",
      "Provide a list of integers\n",
      "3\n",
      "3\n",
      "2\n",
      "Provide a list of integers\n"
     ]
    }
   ],
   "source": [
    "#Function that returns the greates of integers in a list, even if non-integers are in the list. \n",
    "#Integer convertable strings are included in the comparison.\n",
    "def greater(num_list):\n",
    "    greater = 0\n",
    "    a = 0\n",
    "    b = 0\n",
    "    if num_list and type(num_list) == list:\n",
    "        for i in range(len(num_list)-1):\n",
    "            try:\n",
    "                a = int(num_list[i])\n",
    "                b = int(num_list[i+1])\n",
    "                if a > b:\n",
    "                    greater = a\n",
    "                else:\n",
    "                    greater = b\n",
    "            except ValueError:\n",
    "                pass\n",
    "        return greater\n",
    "\n",
    "    return \"Provide a list of integers\"\n",
    "\n",
    "tests = [[1,2,3],[1223,3,2312],[1,2,3,\"sadsa\"],\"assada\", [1,2,3,\"sadsa\", 4], [\"1\",\"2\",\"3\"], [\"aa\",1,2],[]]\n",
    "\n",
    "for test in tests:\n",
    "    print(greater(test))"
   ]
  },
  {
   "cell_type": "code",
   "execution_count": null,
   "metadata": {},
   "outputs": [],
   "source": []
  }
 ],
 "metadata": {
  "kernelspec": {
   "display_name": "Python 3 (ipykernel)",
   "language": "python",
   "name": "python3"
  },
  "language_info": {
   "codemirror_mode": {
    "name": "ipython",
    "version": 3
   },
   "file_extension": ".py",
   "mimetype": "text/x-python",
   "name": "python",
   "nbconvert_exporter": "python",
   "pygments_lexer": "ipython3",
   "version": "3.7.3"
  },
  "vscode": {
   "interpreter": {
    "hash": "f7a5be651532581cb44625d52e18aa1d390cab54bc6b51099d8c30bea9b68219"
   }
  }
 },
 "nbformat": 4,
 "nbformat_minor": 2
}
