{
 "cells": [
  {
   "cell_type": "markdown",
   "metadata": {},
   "source": [
    "1. Write a program that prompts the user for a string and checks whether the string is a palindrome (i.e., the string reads the same forward and backward)."
   ]
  },
  {
   "cell_type": "code",
   "execution_count": 12,
   "metadata": {},
   "outputs": [
    {
     "name": "stdout",
     "output_type": "stream",
     "text": [
      "Enter a string: jusdbfksdbf\n",
      "False\n"
     ]
    }
   ],
   "source": [
    "#Palindrome checker. It inverts a given string by using braket notation to get all elemts with a step of -1\n",
    "def palindromeChecker(prompt):\n",
    "    reversed_prompt = prompt[::-1]\n",
    "    #print(prompt,reversed_prompt)\n",
    "    if prompt == reversed_prompt:\n",
    "        return True\n",
    "    return(False)\n",
    "\n",
    "\n",
    "#This function prompts for input and validates it.\n",
    "def presenter():\n",
    "    user_input = input(\"Enter a string: \")\n",
    "    if user_input and type(user_input) == str:\n",
    "        print(palindromeChecker(user_input))\n",
    "    else:\n",
    "        print(\"Please, provide a string.\")\n",
    "        \n",
    "\n",
    "#Tests\n",
    "'''\n",
    "tests = [\"aaaeeeaaa\",\"acaca\",\"aa\", \"abba\", \"asssss\",\"asasassss\"]\n",
    "        \n",
    "for test in tests:\n",
    "    print(palindromeChecker(test))\n",
    "'''\n",
    "\n",
    "#Implementation\n",
    "presenter()\n"
   ]
  },
  {
   "cell_type": "markdown",
   "metadata": {},
   "source": [
    "2. Write a program that takes in a list of integers and returns the sum of all even numbers in the list."
   ]
  },
  {
   "cell_type": "code",
   "execution_count": 13,
   "metadata": {},
   "outputs": [
    {
     "name": "stdout",
     "output_type": "stream",
     "text": [
      "13\n",
      "12\n",
      "14\n"
     ]
    }
   ],
   "source": [
    "#Adds a list of numbers\n",
    "def adder(num_list):\n",
    "    total = 0\n",
    "    for num in num_list:\n",
    "        total += num\n",
    "    return total\n",
    "\n",
    "#Tests 13, 12, 14\n",
    "tests = [[1,2,2,3,5], [1,2,1,3,5], [1,2,2,3,6]]\n",
    "\n",
    "for test in tests:\n",
    "    print(adder(test))"
   ]
  },
  {
   "cell_type": "markdown",
   "metadata": {},
   "source": [
    "3. Write a program that prompts the user for their age and checks whether they are old enough to vote (i.e., 18 years old or older)."
   ]
  },
  {
   "cell_type": "code",
   "execution_count": 33,
   "metadata": {},
   "outputs": [
    {
     "name": "stdout",
     "output_type": "stream",
     "text": [
      "Enter your age: 17\n",
      "You can't vote\n"
     ]
    }
   ],
   "source": [
    "#This function define if the user is a valid voter\n",
    "def age_checker(age):\n",
    "    if age >= 18:\n",
    "        return True\n",
    "    \n",
    "    \n",
    "#This function interacts with the user\n",
    "def interface():\n",
    "    try:\n",
    "        user_input = int(input(\"Enter your age: \"))\n",
    "        \n",
    "        if age_checker(user_input):\n",
    "            return \"You can vote\"\n",
    "        else:\n",
    "            return \"You can't vote\"\n",
    "    except:\n",
    "        return \"Enter an integer\"\n",
    "    \n",
    "    \n",
    "print(interface())"
   ]
  },
  {
   "cell_type": "markdown",
   "metadata": {},
   "source": [
    "4. Write a program that takes in a list of integers and returns the largest number in the list that is also divisible by 3."
   ]
  },
  {
   "cell_type": "code",
   "execution_count": 36,
   "metadata": {},
   "outputs": [
    {
     "name": "stdout",
     "output_type": "stream",
     "text": [
      "3\n",
      "No number was divisible by 3\n",
      "5454\n",
      "Provide a list of numbers\n"
     ]
    }
   ],
   "source": [
    "def largest_three(num_list):\n",
    "    if num_list and type(num_list) == list:\n",
    "        divisible_num = [num for num in num_list if num % 3 == 0]\n",
    "        if divisible_num:\n",
    "            return max(divisible_num)\n",
    "        return \"No number was divisible by 3\"\n",
    "    return \"Provide a list of numbers\"\n",
    "\n",
    "#Tests\n",
    "tests =[[1,2,3],[1,1,1],[123,22,5454,89],[]]\n",
    "\n",
    "for test in tests:\n",
    "    print(largest_three(test))"
   ]
  },
  {
   "cell_type": "markdown",
   "metadata": {},
   "source": [
    "5. Write a program that prompts the user for a number and checks whether the number is a prime number (i.e., only divisible by 1 and itself)."
   ]
  },
  {
   "cell_type": "code",
   "execution_count": 50,
   "metadata": {},
   "outputs": [
    {
     "name": "stdout",
     "output_type": "stream",
     "text": [
      "Enter a number: 0\n",
      "0 is prime\n"
     ]
    }
   ],
   "source": [
    "def check_prime(num):\n",
    "    if num == 1:\n",
    "        return True\n",
    "    \n",
    "    for i in range(2,num):\n",
    "        if num % i == 0:\n",
    "            return False\n",
    "        \n",
    "    return True\n",
    "\n",
    "def interface():\n",
    "    try:\n",
    "        user_input = int(input(\"Enter a number: \"))\n",
    "        \n",
    "        if check_prime(user_input):\n",
    "            return str(user_input) + \" is prime\"\n",
    "        else:\n",
    "            return str(user_input) + \" is not prime\"\n",
    "    except:\n",
    "        return \"Enter an integer\"\n",
    "\"\"\"\n",
    "tests = [1, 2, 15, 17, 19, 23, 25, 0]\n",
    "\n",
    "for test in tests:\n",
    "    print(check_prime(test))\n",
    "    \n",
    "\"\"\"\n",
    "print(interface())\n"
   ]
  },
  {
   "cell_type": "code",
   "execution_count": null,
   "metadata": {},
   "outputs": [],
   "source": []
  },
  {
   "cell_type": "code",
   "execution_count": null,
   "metadata": {},
   "outputs": [],
   "source": []
  }
 ],
 "metadata": {
  "kernelspec": {
   "display_name": "Python 3 (ipykernel)",
   "language": "python",
   "name": "python3"
  },
  "language_info": {
   "codemirror_mode": {
    "name": "ipython",
    "version": 3
   },
   "file_extension": ".py",
   "mimetype": "text/x-python",
   "name": "python",
   "nbconvert_exporter": "python",
   "pygments_lexer": "ipython3",
   "version": "3.7.3"
  },
  "vscode": {
   "interpreter": {
    "hash": "f7a5be651532581cb44625d52e18aa1d390cab54bc6b51099d8c30bea9b68219"
   }
  }
 },
 "nbformat": 4,
 "nbformat_minor": 2
}
