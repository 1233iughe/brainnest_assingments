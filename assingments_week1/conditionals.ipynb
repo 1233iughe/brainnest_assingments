{
 "cells": [
  {
   "cell_type": "markdown",
   "metadata": {},
   "source": [
    "1. Write a program that prompts the user for a string and checks whether the string is a palindrome (i.e., the string reads the same forward and backward)."
   ]
  },
  {
   "cell_type": "code",
   "execution_count": 12,
   "metadata": {},
   "outputs": [
    {
     "name": "stdout",
     "output_type": "stream",
     "text": [
      "Enter a string: jusdbfksdbf\n",
      "False\n"
     ]
    }
   ],
   "source": [
    "#Palindrome checker. It inverts a given string by using braket notation to get all elemts with a step of -1\n",
    "def palindromeChecker(prompt):\n",
    "    reversed_prompt = prompt[::-1]\n",
    "    #print(prompt,reversed_prompt)\n",
    "    if prompt == reversed_prompt:\n",
    "        return True\n",
    "    return(False)\n",
    "\n",
    "\n",
    "#This function prompts for input and validates it.\n",
    "def presenter():\n",
    "    user_input = input(\"Enter a string: \")\n",
    "    if user_input and type(user_input) == str:\n",
    "        print(palindromeChecker(user_input))\n",
    "    else:\n",
    "        print(\"Please, provide a string.\")\n",
    "        \n",
    "\n",
    "#Tests\n",
    "'''\n",
    "tests = [\"aaaeeeaaa\",\"acaca\",\"aa\", \"abba\", \"asssss\",\"asasassss\"]\n",
    "        \n",
    "for test in tests:\n",
    "    print(palindromeChecker(test))\n",
    "'''\n",
    "\n",
    "#Implementation\n",
    "presenter()\n"
   ]
  },
  {
   "cell_type": "markdown",
   "metadata": {},
   "source": [
    "2. Write a program that takes in a list of integers and returns the sum of all even numbers in the list."
   ]
  },
  {
   "cell_type": "code",
   "execution_count": 2,
   "metadata": {},
   "outputs": [
    {
     "name": "stdout",
     "output_type": "stream",
     "text": [
      "4\n",
      "2\n",
      "10\n"
     ]
    }
   ],
   "source": [
    "#Adds all even numbers in a list of numbers\n",
    "def even_adder(num_list):\n",
    "    total = 0\n",
    "    for num in num_list:\n",
    "        if num % 2 == 0:\n",
    "            total += num\n",
    "    return total\n",
    "\n",
    "#Tests 13, 12, 14\n",
    "tests = [[1,2,2,3,5], [1,2,1,3,5], [1,2,2,3,6]]\n",
    "\n",
    "for test in tests:\n",
    "    print(even_adder(test))"
   ]
  },
  {
   "cell_type": "markdown",
   "metadata": {},
   "source": [
    "3. Write a program that prompts the user for their age and checks whether they are old enough to vote (i.e., 18 years old or older)."
   ]
  },
  {
   "cell_type": "code",
   "execution_count": 15,
   "metadata": {},
   "outputs": [
    {
     "name": "stdout",
     "output_type": "stream",
     "text": [
      "Enter your age: 18\n",
      "You can vote\n"
     ]
    }
   ],
   "source": [
    "#This function define if the user is a valid voter\n",
    "def interface():\n",
    "    MINIMUM = 18\n",
    "    try:\n",
    "        user_input = int(input(\"Enter your age: \"))\n",
    "        if user_input >= 0:\n",
    "            if user_input >= MINIMUM:\n",
    "                return \"You can vote\"\n",
    "            else:\n",
    "                return \"You can't vote\"\n",
    "        else:\n",
    "            return \"Enter a positive integer\"\n",
    "    except:\n",
    "        return \"Entry should be an integer\"\n",
    "    \n",
    "    \n",
    "print(interface())"
   ]
  },
  {
   "cell_type": "markdown",
   "metadata": {},
   "source": [
    "4. Write a program that takes in a list of integers and returns the largest number in the list that is also divisible by 3."
   ]
  },
  {
   "cell_type": "code",
   "execution_count": 16,
   "metadata": {},
   "outputs": [
    {
     "name": "stdout",
     "output_type": "stream",
     "text": [
      "3\n",
      "No number was divisible by 3\n",
      "5454\n",
      "Provide a list of numbers\n"
     ]
    }
   ],
   "source": [
    "#This function checks for the largest number divisible by 3 in a list\n",
    "def largest_three(num_list):\n",
    "    #Entry validation\n",
    "    if num_list and type(num_list) == list:\n",
    "        #Using list comprenhension to avoid needing extra variable.\n",
    "        #Sorts out all numbers divisble by 3\n",
    "        divisible_num = [num for num in num_list if num % 3 == 0]\n",
    "        #Checking if any number was found\n",
    "        if divisible_num:\n",
    "            #Checking for the largest one\n",
    "            return max(divisible_num)\n",
    "        return \"No number was divisible by 3\"\n",
    "    return \"Provide a list of numbers\"\n",
    "\n",
    "#Tests\n",
    "tests =[[1,2,3],[1,1,1],[123,22,5454,89],[]]\n",
    "\n",
    "for test in tests:\n",
    "    print(largest_three(test))"
   ]
  },
  {
   "cell_type": "markdown",
   "metadata": {},
   "source": [
    "5. Write a program that prompts the user for a number and checks whether the number is a prime number (i.e., only divisible by 1 and itself)."
   ]
  },
  {
   "cell_type": "code",
   "execution_count": 19,
   "metadata": {},
   "outputs": [
    {
     "name": "stdout",
     "output_type": "stream",
     "text": [
      "Enter a number: 449\n",
      "[2, 3, 5, 7, 11, 13, 17, 19, 23, 29, 31, 37, 41, 43, 47, 53, 59, 61, 67, 71, 73, 79, 83, 89, 97, 101, 103, 107, 109, 113, 121, 127, 131, 137, 139, 143, 149, 151, 157, 163, 167, 169, 173, 179, 181, 187, 191, 193, 197, 199, 209, 211, 221, 223] 54\n",
      "449 is prime\n"
     ]
    }
   ],
   "source": [
    "#This function brute-forces the lookout process for primes.\n",
    "def check_prime(num):\n",
    "    #Eliminate border cases\n",
    "    if num == 1:\n",
    "        return True\n",
    "    elif num == 0:\n",
    "        return False\n",
    "    elif num > 0:\n",
    "        #Create a list of half the numbers between 2 and the number containing only the odd numbers and 2\n",
    "        possible_factors = [x for x in range(2, num//2) if not x % 2 == 0 \n",
    "                            and x % 3 != 0\n",
    "                            and x % 5 != 0\n",
    "                            and x % 7 != 0\n",
    "                            or x in [2,3,5,7]]\n",
    "        print(possible_factors, len(possible_factors))\n",
    "        for factor in possible_factors:\n",
    "            if num % factor == 0:\n",
    "                return False\n",
    "    \n",
    "        return True\n",
    "    return False\n",
    "#This function interacts with the user and displays results.\n",
    "def interface():\n",
    "    try:\n",
    "        user_input = int(input(\"Enter a number: \"))\n",
    "\n",
    "        if check_prime(user_input):\n",
    "            return str(user_input) + \" is prime\"\n",
    "        else:\n",
    "            return str(user_input) + \" is not prime\"\n",
    "    except ValueError:\n",
    "        return \"Value should be a positive integer\"\n",
    "    \n",
    "\n",
    "\"\"\"\n",
    "tests = [1, 2, 15, 17, 19, 23, 25, 0]\n",
    "\n",
    "for test in tests:\n",
    "    print(check_prime(test))\n",
    "    \n",
    "\"\"\"\n",
    "print(interface())\n"
   ]
  },
  {
   "cell_type": "code",
   "execution_count": 10,
   "metadata": {},
   "outputs": [
    {
     "data": {
      "text/plain": [
       "5"
      ]
     },
     "execution_count": 10,
     "metadata": {},
     "output_type": "execute_result"
    }
   ],
   "source": [
    "10//2"
   ]
  },
  {
   "cell_type": "code",
   "execution_count": 18,
   "metadata": {},
   "outputs": [
    {
     "data": {
      "text/plain": [
       "0"
      ]
     },
     "execution_count": 18,
     "metadata": {},
     "output_type": "execute_result"
    }
   ],
   "source": [
    "6%3\n"
   ]
  },
  {
   "cell_type": "code",
   "execution_count": null,
   "metadata": {},
   "outputs": [],
   "source": []
  }
 ],
 "metadata": {
  "kernelspec": {
   "display_name": "Python 3 (ipykernel)",
   "language": "python",
   "name": "python3"
  },
  "language_info": {
   "codemirror_mode": {
    "name": "ipython",
    "version": 3
   },
   "file_extension": ".py",
   "mimetype": "text/x-python",
   "name": "python",
   "nbconvert_exporter": "python",
   "pygments_lexer": "ipython3",
   "version": "3.7.3"
  },
  "vscode": {
   "interpreter": {
    "hash": "f7a5be651532581cb44625d52e18aa1d390cab54bc6b51099d8c30bea9b68219"
   }
  }
 },
 "nbformat": 4,
 "nbformat_minor": 2
}
